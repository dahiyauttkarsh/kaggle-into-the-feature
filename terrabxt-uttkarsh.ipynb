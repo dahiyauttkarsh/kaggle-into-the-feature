{
 "cells": [
  {
   "cell_type": "markdown",
   "execution_count": null,
   "metadata": {},
   "source": [
    "# Using Tensorflow to predict feature_2\n",
    "I have used neural networks to predict feature_2. \n",
    "* The program starts by Importing all the necessary libraries that I have used in this program. \n",
    "* In second step I have done visulaisation and explorarion of data by using head() function and graphs\n",
    "* Next step is preprocessing where I have used minmaxscaler on train set to scale the feature_1 so that it can give better output\n",
    "* Last step is building the model and then training it\n",
    "* Finally I tested the model on test set and saved the predictions in submission.csv file\n"
   ]
  },
  {
   "cell_type": "markdown",
   "execution_count": null,
   "metadata": {},
   "source": [
    "# Importing necessary libraries"
   ]
  },
  {
   "cell_type": "code",
   "execution_count": 1,
   "metadata": {},
   "outputs": [],
   "source": [
    "import pandas as pd\n",
    "import numpy as np\n",
    "import matplotlib.pylab as plt\n",
    "import seaborn as sns\n",
    "import tensorflow as tf\n",
    "from sklearn.preprocessing import MinMaxScaler\n",
    "from tensorflow import keras\n"
   ]
  },
  {
   "cell_type": "code",
   "execution_count": 2,
   "metadata": {},
   "outputs": [],
   "source": [
    "Random_seed = 42\n",
    "np.random.seed(Random_seed)\n",
    "tf.random.set_seed(Random_seed)"
   ]
  },
  {
   "cell_type": "markdown",
   "execution_count": null,
   "metadata": {},
   "source": [
    "# Reading the train and test file\n",
    "train.csv file has been read into df and test.csv file has been read into df_test. I have used time column as an index in df."
   ]
  },
  {
   "cell_type": "code",
   "execution_count": 3,
   "metadata": {},
   "outputs": [],
   "source": [
    "df = pd.read_csv('../input/into-the-future/train.csv',index_col = [1],parse_dates = [1])\n",
    "df_test = pd.read_csv('../input/into-the-future/test.csv',index_col = [1],parse_dates = [1])"
   ]
  },
  {
   "cell_type": "markdown",
   "execution_count": null,
   "metadata": {},
   "source": [
    "# Visualization and Exploration\n",
    "Checking the features and data types in df and df_test dataset"
   ]
  },
  {
   "cell_type": "code",
   "execution_count": 4,
   "metadata": {},
   "outputs": [
    {
     "data": {
      "text/plain": [
       "feature_1    float64\n",
       "feature_2    float64\n",
       "dtype: object"
      ]
     },
     "execution_count": 4,
     "metadata": {},
     "output_type": "execute_result"
    }
   ],
   "source": [
    "df = df.drop(['id'],axis = 1)\n",
    "df.dtypes"
   ]
  },
  {
   "cell_type": "code",
   "execution_count": 5,
   "metadata": {},
   "outputs": [
    {
     "data": {
      "text/plain": [
       "id             int64\n",
       "feature_1    float64\n",
       "dtype: object"
      ]
     },
     "execution_count": 5,
     "metadata": {},
     "output_type": "execute_result"
    }
   ],
   "source": [
    "test = df_test\n",
    "test.dtypes"
   ]
  },
  {
   "cell_type": "markdown",
   "execution_count": null,
   "metadata": {},
   "source": [
    "Checking if the test dataset contains any null value"
   ]
  },
  {
   "cell_type": "code",
   "execution_count": 6,
   "metadata": {},
   "outputs": [
    {
     "data": {
      "text/plain": [
       "False"
      ]
     },
     "execution_count": 6,
     "metadata": {},
     "output_type": "execute_result"
    }
   ],
   "source": [
    "df.isnull().values.any()"
   ]
  },
  {
   "cell_type": "markdown",
   "execution_count": null,
   "metadata": {},
   "source": [
    "Taking a insight of df dataset using head()"
   ]
  },
  {
   "cell_type": "code",
   "execution_count": 7,
   "metadata": {},
   "outputs": [
    {
     "data": {
      "text/html": [
       "<div>\n",
       "<style scoped>\n",
       "    .dataframe tbody tr th:only-of-type {\n",
       "        vertical-align: middle;\n",
       "    }\n",
       "\n",
       "    .dataframe tbody tr th {\n",
       "        vertical-align: top;\n",
       "    }\n",
       "\n",
       "    .dataframe thead th {\n",
       "        text-align: right;\n",
       "    }\n",
       "</style>\n",
       "<table border=\"1\" class=\"dataframe\">\n",
       "  <thead>\n",
       "    <tr style=\"text-align: right;\">\n",
       "      <th></th>\n",
       "      <th>feature_1</th>\n",
       "      <th>feature_2</th>\n",
       "    </tr>\n",
       "    <tr>\n",
       "      <th>time</th>\n",
       "      <th></th>\n",
       "      <th></th>\n",
       "    </tr>\n",
       "  </thead>\n",
       "  <tbody>\n",
       "    <tr>\n",
       "      <th>2019-03-19 00:00:00</th>\n",
       "      <td>735.740043</td>\n",
       "      <td>54479.540513</td>\n",
       "    </tr>\n",
       "    <tr>\n",
       "      <th>2019-03-19 00:00:10</th>\n",
       "      <td>734.102947</td>\n",
       "      <td>47888.033714</td>\n",
       "    </tr>\n",
       "    <tr>\n",
       "      <th>2019-03-19 00:00:20</th>\n",
       "      <td>730.060336</td>\n",
       "      <td>47700.882325</td>\n",
       "    </tr>\n",
       "    <tr>\n",
       "      <th>2019-03-19 00:00:30</th>\n",
       "      <td>725.609742</td>\n",
       "      <td>47790.094648</td>\n",
       "    </tr>\n",
       "    <tr>\n",
       "      <th>2019-03-19 00:00:40</th>\n",
       "      <td>724.328480</td>\n",
       "      <td>47808.402381</td>\n",
       "    </tr>\n",
       "  </tbody>\n",
       "</table>\n",
       "</div>"
      ],
      "text/plain": [
       "                      feature_1     feature_2\n",
       "time                                         \n",
       "2019-03-19 00:00:00  735.740043  54479.540513\n",
       "2019-03-19 00:00:10  734.102947  47888.033714\n",
       "2019-03-19 00:00:20  730.060336  47700.882325\n",
       "2019-03-19 00:00:30  725.609742  47790.094648\n",
       "2019-03-19 00:00:40  724.328480  47808.402381"
      ]
     },
     "execution_count": 7,
     "metadata": {},
     "output_type": "execute_result"
    }
   ],
   "source": [
    "df.head()\n"
   ]
  },
  {
   "cell_type": "markdown",
   "execution_count": null,
   "metadata": {},
   "source": [
    "Lets take a look at the statistical values of the df data set using describe() function"
   ]
  },
  {
   "cell_type": "code",
   "execution_count": 8,
   "metadata": {},
   "outputs": [
    {
     "data": {
      "text/html": [
       "<div>\n",
       "<style scoped>\n",
       "    .dataframe tbody tr th:only-of-type {\n",
       "        vertical-align: middle;\n",
       "    }\n",
       "\n",
       "    .dataframe tbody tr th {\n",
       "        vertical-align: top;\n",
       "    }\n",
       "\n",
       "    .dataframe thead th {\n",
       "        text-align: right;\n",
       "    }\n",
       "</style>\n",
       "<table border=\"1\" class=\"dataframe\">\n",
       "  <thead>\n",
       "    <tr style=\"text-align: right;\">\n",
       "      <th></th>\n",
       "      <th>feature_1</th>\n",
       "      <th>feature_2</th>\n",
       "      <th>hour</th>\n",
       "      <th>minute</th>\n",
       "      <th>second</th>\n",
       "    </tr>\n",
       "  </thead>\n",
       "  <tbody>\n",
       "    <tr>\n",
       "      <th>count</th>\n",
       "      <td>564.000000</td>\n",
       "      <td>564.000000</td>\n",
       "      <td>564.000000</td>\n",
       "      <td>564.000000</td>\n",
       "      <td>564.000000</td>\n",
       "    </tr>\n",
       "    <tr>\n",
       "      <th>mean</th>\n",
       "      <td>523.754885</td>\n",
       "      <td>52487.426941</td>\n",
       "      <td>0.361702</td>\n",
       "      <td>24.797872</td>\n",
       "      <td>25.000000</td>\n",
       "    </tr>\n",
       "    <tr>\n",
       "      <th>std</th>\n",
       "      <td>70.507377</td>\n",
       "      <td>1582.206650</td>\n",
       "      <td>0.480920</td>\n",
       "      <td>16.301498</td>\n",
       "      <td>17.093412</td>\n",
       "    </tr>\n",
       "    <tr>\n",
       "      <th>min</th>\n",
       "      <td>420.127639</td>\n",
       "      <td>47700.882325</td>\n",
       "      <td>0.000000</td>\n",
       "      <td>0.000000</td>\n",
       "      <td>0.000000</td>\n",
       "    </tr>\n",
       "    <tr>\n",
       "      <th>25%</th>\n",
       "      <td>474.970260</td>\n",
       "      <td>51842.916087</td>\n",
       "      <td>0.000000</td>\n",
       "      <td>11.000000</td>\n",
       "      <td>10.000000</td>\n",
       "    </tr>\n",
       "    <tr>\n",
       "      <th>50%</th>\n",
       "      <td>501.204656</td>\n",
       "      <td>53170.608346</td>\n",
       "      <td>0.000000</td>\n",
       "      <td>23.000000</td>\n",
       "      <td>25.000000</td>\n",
       "    </tr>\n",
       "    <tr>\n",
       "      <th>75%</th>\n",
       "      <td>569.862105</td>\n",
       "      <td>53515.111143</td>\n",
       "      <td>1.000000</td>\n",
       "      <td>36.000000</td>\n",
       "      <td>40.000000</td>\n",
       "    </tr>\n",
       "    <tr>\n",
       "      <th>max</th>\n",
       "      <td>735.740043</td>\n",
       "      <td>54479.540513</td>\n",
       "      <td>1.000000</td>\n",
       "      <td>59.000000</td>\n",
       "      <td>50.000000</td>\n",
       "    </tr>\n",
       "  </tbody>\n",
       "</table>\n",
       "</div>"
      ],
      "text/plain": [
       "        feature_1     feature_2        hour      minute      second\n",
       "count  564.000000    564.000000  564.000000  564.000000  564.000000\n",
       "mean   523.754885  52487.426941    0.361702   24.797872   25.000000\n",
       "std     70.507377   1582.206650    0.480920   16.301498   17.093412\n",
       "min    420.127639  47700.882325    0.000000    0.000000    0.000000\n",
       "25%    474.970260  51842.916087    0.000000   11.000000   10.000000\n",
       "50%    501.204656  53170.608346    0.000000   23.000000   25.000000\n",
       "75%    569.862105  53515.111143    1.000000   36.000000   40.000000\n",
       "max    735.740043  54479.540513    1.000000   59.000000   50.000000"
      ]
     },
     "execution_count": 8,
     "metadata": {},
     "output_type": "execute_result"
    }
   ],
   "source": [
    "df['hour'] = df.index.hour\n",
    "df['minute'] = df.index.minute\n",
    "df['second'] = df.index.second\n",
    "df.describe()\n"
   ]
  },
  {
   "cell_type": "markdown",
   "execution_count": null,
   "metadata": {},
   "source": [
    "Graphs are very usefull as they give lot of information about the data set. I have plotted a graph between feature_2 and time. As we can see from this graph that it has an outlier value in the beginning."
   ]
  },
  {
   "cell_type": "code",
   "execution_count": 9,
   "metadata": {},
   "outputs": [
    {
     "data": {
      "text/html": [
       "<div>\n",
       "<style scoped>\n",
       "    .dataframe tbody tr th:only-of-type {\n",
       "        vertical-align: middle;\n",
       "    }\n",
       "\n",
       "    .dataframe tbody tr th {\n",
       "        vertical-align: top;\n",
       "    }\n",
       "\n",
       "    .dataframe thead th {\n",
       "        text-align: right;\n",
       "    }\n",
       "</style>\n",
       "<table border=\"1\" class=\"dataframe\">\n",
       "  <thead>\n",
       "    <tr style=\"text-align: right;\">\n",
       "      <th></th>\n",
       "      <th>id</th>\n",
       "      <th>feature_1</th>\n",
       "      <th>hour</th>\n",
       "      <th>minute</th>\n",
       "      <th>second</th>\n",
       "    </tr>\n",
       "  </thead>\n",
       "  <tbody>\n",
       "    <tr>\n",
       "      <th>count</th>\n",
       "      <td>375.000000</td>\n",
       "      <td>375.000000</td>\n",
       "      <td>375.000000</td>\n",
       "      <td>375.000000</td>\n",
       "      <td>375.000000</td>\n",
       "    </tr>\n",
       "    <tr>\n",
       "      <th>mean</th>\n",
       "      <td>751.000000</td>\n",
       "      <td>409.334539</td>\n",
       "      <td>1.584000</td>\n",
       "      <td>29.712000</td>\n",
       "      <td>24.880000</td>\n",
       "    </tr>\n",
       "    <tr>\n",
       "      <th>std</th>\n",
       "      <td>108.397417</td>\n",
       "      <td>28.841608</td>\n",
       "      <td>0.493552</td>\n",
       "      <td>17.023332</td>\n",
       "      <td>17.100646</td>\n",
       "    </tr>\n",
       "    <tr>\n",
       "      <th>min</th>\n",
       "      <td>564.000000</td>\n",
       "      <td>364.045118</td>\n",
       "      <td>1.000000</td>\n",
       "      <td>0.000000</td>\n",
       "      <td>0.000000</td>\n",
       "    </tr>\n",
       "    <tr>\n",
       "      <th>25%</th>\n",
       "      <td>657.500000</td>\n",
       "      <td>383.701342</td>\n",
       "      <td>1.000000</td>\n",
       "      <td>15.000000</td>\n",
       "      <td>10.000000</td>\n",
       "    </tr>\n",
       "    <tr>\n",
       "      <th>50%</th>\n",
       "      <td>751.000000</td>\n",
       "      <td>401.488841</td>\n",
       "      <td>2.000000</td>\n",
       "      <td>31.000000</td>\n",
       "      <td>20.000000</td>\n",
       "    </tr>\n",
       "    <tr>\n",
       "      <th>75%</th>\n",
       "      <td>844.500000</td>\n",
       "      <td>432.481531</td>\n",
       "      <td>2.000000</td>\n",
       "      <td>44.000000</td>\n",
       "      <td>40.000000</td>\n",
       "    </tr>\n",
       "    <tr>\n",
       "      <th>max</th>\n",
       "      <td>938.000000</td>\n",
       "      <td>466.892616</td>\n",
       "      <td>2.000000</td>\n",
       "      <td>59.000000</td>\n",
       "      <td>50.000000</td>\n",
       "    </tr>\n",
       "  </tbody>\n",
       "</table>\n",
       "</div>"
      ],
      "text/plain": [
       "               id   feature_1        hour      minute      second\n",
       "count  375.000000  375.000000  375.000000  375.000000  375.000000\n",
       "mean   751.000000  409.334539    1.584000   29.712000   24.880000\n",
       "std    108.397417   28.841608    0.493552   17.023332   17.100646\n",
       "min    564.000000  364.045118    1.000000    0.000000    0.000000\n",
       "25%    657.500000  383.701342    1.000000   15.000000   10.000000\n",
       "50%    751.000000  401.488841    2.000000   31.000000   20.000000\n",
       "75%    844.500000  432.481531    2.000000   44.000000   40.000000\n",
       "max    938.000000  466.892616    2.000000   59.000000   50.000000"
      ]
     },
     "execution_count": 9,
     "metadata": {},
     "output_type": "execute_result"
    }
   ],
   "source": [
    "test['hour'] = test.index.hour\n",
    "test['minute'] = test.index.minute\n",
    "test['second'] = test.index.second\n",
    "test.describe()"
   ]
  },
  {
   "cell_type": "code",
   "execution_count": 10,
   "metadata": {},
   "outputs": [
    {
     "data": {
      "image/png": "[encoded data removed]",
      "text/plain": [
       "<Figure size 432x288 with 1 Axes>"
      ]
     },
     "metadata": {
      "needs_background": "light"
     },
     "output_type": "display_data"
    }
   ],
   "source": [
    "sns.lineplot(x=df.index,y='feature_2',data =df)\n",
    "sns.set(rc={'figure.figsize':(12,8)})"
   ]
  },
  {
   "cell_type": "markdown",
   "execution_count": null,
   "metadata": {},
   "source": [
    "The second graph is plotted between feature_1 and time and it has no outlier"
   ]
  },
  {
   "cell_type": "code",
   "execution_count": 11,
   "metadata": {},
   "outputs": [
    {
     "data": {
      "image/png": "[encoded data removed]",
      "text/plain": [
       "<Figure size 864x576 with 1 Axes>"
      ]
     },
     "metadata": {},
     "output_type": "display_data"
    }
   ],
   "source": [
    "sns.lineplot(x=df.index,y='feature_1',data =df)\n",
    "sns.set(rc={'figure.figsize':(12,8)})"
   ]
  },
  {
   "cell_type": "markdown",
   "execution_count": null,
   "metadata": {},
   "source": [
    "Removing the outlier by removing the first row from df dataset"
   ]
  },
  {
   "cell_type": "code",
   "execution_count": 12,
   "metadata": {},
   "outputs": [],
   "source": [
    "#df = df.iloc[1:]"
   ]
  },
  {
   "cell_type": "code",
   "execution_count": 13,
   "metadata": {},
   "outputs": [
    {
     "data": {
      "text/html": [
       "<div>\n",
       "<style scoped>\n",
       "    .dataframe tbody tr th:only-of-type {\n",
       "        vertical-align: middle;\n",
       "    }\n",
       "\n",
       "    .dataframe tbody tr th {\n",
       "        vertical-align: top;\n",
       "    }\n",
       "\n",
       "    .dataframe thead th {\n",
       "        text-align: right;\n",
       "    }\n",
       "</style>\n",
       "<table border=\"1\" class=\"dataframe\">\n",
       "  <thead>\n",
       "    <tr style=\"text-align: right;\">\n",
       "      <th></th>\n",
       "      <th>feature_1</th>\n",
       "      <th>feature_2</th>\n",
       "      <th>hour</th>\n",
       "      <th>minute</th>\n",
       "      <th>second</th>\n",
       "    </tr>\n",
       "    <tr>\n",
       "      <th>time</th>\n",
       "      <th></th>\n",
       "      <th></th>\n",
       "      <th></th>\n",
       "      <th></th>\n",
       "      <th></th>\n",
       "    </tr>\n",
       "  </thead>\n",
       "  <tbody>\n",
       "    <tr>\n",
       "      <th>2019-03-19 00:00:00</th>\n",
       "      <td>735.740043</td>\n",
       "      <td>54479.540513</td>\n",
       "      <td>0</td>\n",
       "      <td>0</td>\n",
       "      <td>0</td>\n",
       "    </tr>\n",
       "    <tr>\n",
       "      <th>2019-03-19 00:00:10</th>\n",
       "      <td>734.102947</td>\n",
       "      <td>47888.033714</td>\n",
       "      <td>0</td>\n",
       "      <td>0</td>\n",
       "      <td>10</td>\n",
       "    </tr>\n",
       "    <tr>\n",
       "      <th>2019-03-19 00:00:20</th>\n",
       "      <td>730.060336</td>\n",
       "      <td>47700.882325</td>\n",
       "      <td>0</td>\n",
       "      <td>0</td>\n",
       "      <td>20</td>\n",
       "    </tr>\n",
       "    <tr>\n",
       "      <th>2019-03-19 00:00:30</th>\n",
       "      <td>725.609742</td>\n",
       "      <td>47790.094648</td>\n",
       "      <td>0</td>\n",
       "      <td>0</td>\n",
       "      <td>30</td>\n",
       "    </tr>\n",
       "    <tr>\n",
       "      <th>2019-03-19 00:00:40</th>\n",
       "      <td>724.328480</td>\n",
       "      <td>47808.402381</td>\n",
       "      <td>0</td>\n",
       "      <td>0</td>\n",
       "      <td>40</td>\n",
       "    </tr>\n",
       "  </tbody>\n",
       "</table>\n",
       "</div>"
      ],
      "text/plain": [
       "                      feature_1     feature_2  hour  minute  second\n",
       "time                                                               \n",
       "2019-03-19 00:00:00  735.740043  54479.540513     0       0       0\n",
       "2019-03-19 00:00:10  734.102947  47888.033714     0       0      10\n",
       "2019-03-19 00:00:20  730.060336  47700.882325     0       0      20\n",
       "2019-03-19 00:00:30  725.609742  47790.094648     0       0      30\n",
       "2019-03-19 00:00:40  724.328480  47808.402381     0       0      40"
      ]
     },
     "execution_count": 13,
     "metadata": {},
     "output_type": "execute_result"
    }
   ],
   "source": [
    "df.head()"
   ]
  },
  {
   "cell_type": "code",
   "execution_count": 14,
   "metadata": {},
   "outputs": [
    {
     "name": "stdout",
     "output_type": "stream",
     "text": [
      "564 375\n"
     ]
    }
   ],
   "source": [
    "train = df\n",
    "train_size = len(df)\n",
    "test_size = len(test)\n",
    "\n",
    "print(len(train), len(test))"
   ]
  },
  {
   "cell_type": "markdown",
   "execution_count": null,
   "metadata": {},
   "source": [
    "# Preprocessing \n",
    "The first step of preprocessing is normalising  the features in the data set. Here I have used MinMaxScalar to normalize so that all the values lie between 0 and 1.\n"
   ]
  },
  {
   "cell_type": "code",
   "execution_count": 15,
   "metadata": {},
   "outputs": [],
   "source": [
    "scaler = MinMaxScaler()"
   ]
  },
  {
   "cell_type": "code",
   "execution_count": 16,
   "metadata": {},
   "outputs": [
    {
     "data": {
      "text/plain": [
       "MinMaxScaler()"
      ]
     },
     "execution_count": 16,
     "metadata": {},
     "output_type": "execute_result"
    }
   ],
   "source": [
    "scaler.fit(train[['feature_1']].to_numpy())"
   ]
  },
  {
   "cell_type": "code",
   "execution_count": 17,
   "metadata": {},
   "outputs": [],
   "source": [
    "scaled_train_f1 = scaler.transform(train[['feature_1']].to_numpy())\n",
    "scaled_test_f1 = scaler.transform(test[['feature_1']].to_numpy())\n",
    "\n",
    "second_square = np.square(train[['second']])\n",
    "test_second_square = np.square(test[['second']])\n",
    "\n",
    "train_feature = np.c_[scaled_train_f1,train[['hour']],train[['minute']],train[['second']]]\n",
    "test_feature = np.c_[scaled_test_f1,test[['hour']],test[['minute']],test[['second']]]\n"
   ]
  },
  {
   "cell_type": "code",
   "execution_count": 18,
   "metadata": {},
   "outputs": [],
   "source": [
    "scaler.fit(train[['feature_2']].to_numpy())\n",
    "scaled_train_f2 = scaler.transform(train[['feature_2']].to_numpy())"
   ]
  },
  {
   "cell_type": "markdown",
   "execution_count": null,
   "metadata": {},
   "source": [
    "# Building the model\n",
    "The first step is to specify the architecture of the model. I have used keras sequential model for this."
   ]
  },
  {
   "cell_type": "code",
   "execution_count": 19,
   "metadata": {},
   "outputs": [],
   "source": [
    "model = keras.Sequential([\n",
    "    keras.layers.Flatten(input_shape=(4,)),\n",
    "    keras.layers.Dense(120, activation='relu', kernel_regularizer=keras.regularizers.l2(0.01)),\n",
    "    #keras.layers.Dropout(0.2),\n",
    "    keras.layers.Dense(120, activation='relu', kernel_regularizer=keras.regularizers.l2(0.01)),\n",
    "    #keras.layers.Dropout(0.2),\n",
    "    keras.layers.Dense(120, activation='relu', kernel_regularizer=keras.regularizers.l2(0.01)),\n",
    "    #keras.layers.Dropout(0.1),\n",
    "    keras.layers.Dense(1, activation='sigmoid', kernel_regularizer=keras.regularizers.l2(0.01)),\n",
    "])"
   ]
  },
  {
   "cell_type": "markdown",
   "execution_count": null,
   "metadata": {},
   "source": [
    "**Configuring the model**"
   ]
  },
  {
   "cell_type": "code",
   "execution_count": 20,
   "metadata": {},
   "outputs": [],
   "source": [
    "model.compile(optimizer='adam',\n",
    "              loss='mse'\n",
    "              )"
   ]
  },
  {
   "cell_type": "markdown",
   "execution_count": null,
   "metadata": {},
   "source": [
    "# Training the model \n",
    "The first step is fitting the parameters to the data using fit()"
   ]
  },
  {
   "cell_type": "code",
   "execution_count": 21,
   "metadata": {},
   "outputs": [
    {
     "name": "stdout",
     "output_type": "stream",
     "text": [
      "Epoch 1/10\n",
      "507/507 [==============================] - 1s 2ms/step - loss: 0.3167 - val_loss: 0.0208\n",
      "Epoch 2/10\n",
      "507/507 [==============================] - 1s 1ms/step - loss: 0.0288 - val_loss: 0.0120\n",
      "Epoch 3/10\n",
      "507/507 [==============================] - 1s 1ms/step - loss: 0.0285 - val_loss: 0.0142\n",
      "Epoch 4/10\n",
      "507/507 [==============================] - 1s 1ms/step - loss: 0.0271 - val_loss: 0.0137\n",
      "Epoch 5/10\n",
      "507/507 [==============================] - 1s 1ms/step - loss: 0.0246 - val_loss: 0.0116\n",
      "Epoch 6/10\n",
      "507/507 [==============================] - 1s 1ms/step - loss: 0.0282 - val_loss: 0.0113\n",
      "Epoch 7/10\n",
      "507/507 [==============================] - 1s 1ms/step - loss: 0.0272 - val_loss: 0.0098\n",
      "Epoch 8/10\n",
      "507/507 [==============================] - 1s 1ms/step - loss: 0.0277 - val_loss: 0.0090\n",
      "Epoch 9/10\n",
      "507/507 [==============================] - 1s 1ms/step - loss: 0.0270 - val_loss: 0.0087\n",
      "Epoch 10/10\n",
      "507/507 [==============================] - 1s 1ms/step - loss: 0.0262 - val_loss: 0.0081\n"
     ]
    }
   ],
   "source": [
    "hist = model.fit(train_feature, scaled_train_f2, shuffle=False,\n",
    "          batch_size=1, \n",
    "                 epochs=10,validation_split=0.1)"
   ]
  },
  {
   "cell_type": "code",
   "execution_count": 22,
   "metadata": {},
   "outputs": [
    {
     "data": {
      "image/png": "[encoded data removed]",
      "text/plain": [
       "<Figure size 864x576 with 1 Axes>"
      ]
     },
     "metadata": {},
     "output_type": "display_data"
    }
   ],
   "source": [
    "plt.plot(hist.history['loss'])\n",
    "plt.plot(hist.history['val_loss'])\n",
    "plt.title('Model loss')\n",
    "plt.ylabel('Loss')\n",
    "plt.xlabel('Epoch')\n",
    "plt.legend(['Train', 'Val'], loc='upper right')\n",
    "plt.show()"
   ]
  },
  {
   "cell_type": "markdown",
   "execution_count": null,
   "metadata": {},
   "source": [
    "# Predicting\n",
    "Once the training is done, we will predict the values for our test set using predict()"
   ]
  },
  {
   "cell_type": "code",
   "execution_count": 23,
   "metadata": {},
   "outputs": [],
   "source": [
    "prediction = model.predict(test_feature)"
   ]
  },
  {
   "cell_type": "code",
   "execution_count": 24,
   "metadata": {},
   "outputs": [
    {
     "data": {
      "text/plain": [
       "(375, 1)"
      ]
     },
     "execution_count": 24,
     "metadata": {},
     "output_type": "execute_result"
    }
   ],
   "source": [
    "prediction.shape"
   ]
  },
  {
   "cell_type": "markdown",
   "execution_count": null,
   "metadata": {},
   "source": [
    "**Since we transformed our data by normalising it, we have to inverse transform our data to get the values which we want.**"
   ]
  },
  {
   "cell_type": "code",
   "execution_count": 25,
   "metadata": {},
   "outputs": [],
   "source": [
    "feature_2 = scaler.inverse_transform(prediction)"
   ]
  },
  {
   "cell_type": "code",
   "execution_count": 26,
   "metadata": {},
   "outputs": [],
   "source": [
    "ids = test[['id']].to_numpy()\n",
    "ids = ids.flatten()\n",
    "\n",
    "feature_2 = feature_2.flatten()\n"
   ]
  },
  {
   "cell_type": "markdown",
   "execution_count": null,
   "metadata": {},
   "source": [
    "**Saving the data into .csv file**"
   ]
  },
  {
   "cell_type": "code",
   "execution_count": 27,
   "metadata": {},
   "outputs": [],
   "source": [
    "d = {'id': ids, 'feature_2': feature_2}\n",
    "submission = pd.DataFrame(data = d)\n",
    "submission.to_csv('submission.csv',index=False)"
   ]
  },
  {
   "cell_type": "code",
   "execution_count": 28,
   "metadata": {},
   "outputs": [
    {
     "data": {
      "text/html": [
       "<div>\n",
       "<style scoped>\n",
       "    .dataframe tbody tr th:only-of-type {\n",
       "        vertical-align: middle;\n",
       "    }\n",
       "\n",
       "    .dataframe tbody tr th {\n",
       "        vertical-align: top;\n",
       "    }\n",
       "\n",
       "    .dataframe thead th {\n",
       "        text-align: right;\n",
       "    }\n",
       "</style>\n",
       "<table border=\"1\" class=\"dataframe\">\n",
       "  <thead>\n",
       "    <tr style=\"text-align: right;\">\n",
       "      <th></th>\n",
       "      <th>id</th>\n",
       "      <th>feature_2</th>\n",
       "    </tr>\n",
       "  </thead>\n",
       "  <tbody>\n",
       "    <tr>\n",
       "      <th>0</th>\n",
       "      <td>564</td>\n",
       "      <td>53930.171875</td>\n",
       "    </tr>\n",
       "    <tr>\n",
       "      <th>1</th>\n",
       "      <td>565</td>\n",
       "      <td>53947.847656</td>\n",
       "    </tr>\n",
       "    <tr>\n",
       "      <th>2</th>\n",
       "      <td>566</td>\n",
       "      <td>53965.015625</td>\n",
       "    </tr>\n",
       "    <tr>\n",
       "      <th>3</th>\n",
       "      <td>567</td>\n",
       "      <td>53981.695312</td>\n",
       "    </tr>\n",
       "    <tr>\n",
       "      <th>4</th>\n",
       "      <td>568</td>\n",
       "      <td>53997.894531</td>\n",
       "    </tr>\n",
       "    <tr>\n",
       "      <th>...</th>\n",
       "      <td>...</td>\n",
       "      <td>...</td>\n",
       "    </tr>\n",
       "    <tr>\n",
       "      <th>370</th>\n",
       "      <td>934</td>\n",
       "      <td>54002.136719</td>\n",
       "    </tr>\n",
       "    <tr>\n",
       "      <th>371</th>\n",
       "      <td>935</td>\n",
       "      <td>54017.730469</td>\n",
       "    </tr>\n",
       "    <tr>\n",
       "      <th>372</th>\n",
       "      <td>936</td>\n",
       "      <td>53938.824219</td>\n",
       "    </tr>\n",
       "    <tr>\n",
       "      <th>373</th>\n",
       "      <td>937</td>\n",
       "      <td>53956.246094</td>\n",
       "    </tr>\n",
       "    <tr>\n",
       "      <th>374</th>\n",
       "      <td>938</td>\n",
       "      <td>53973.164062</td>\n",
       "    </tr>\n",
       "  </tbody>\n",
       "</table>\n",
       "<p>375 rows × 2 columns</p>\n",
       "</div>"
      ],
      "text/plain": [
       "      id     feature_2\n",
       "0    564  53930.171875\n",
       "1    565  53947.847656\n",
       "2    566  53965.015625\n",
       "3    567  53981.695312\n",
       "4    568  53997.894531\n",
       "..   ...           ...\n",
       "370  934  54002.136719\n",
       "371  935  54017.730469\n",
       "372  936  53938.824219\n",
       "373  937  53956.246094\n",
       "374  938  53973.164062\n",
       "\n",
       "[375 rows x 2 columns]"
      ]
     },
     "execution_count": 28,
     "metadata": {},
     "output_type": "execute_result"
    }
   ],
   "source": [
    "submission"
   ]
  }
 ],
 "metadata": {
  "kernelspec": {
   "display_name": "Python 3",
   "language": "python",
   "name": "python3"
  },
  "language_info": {
   "codemirror_mode": {
    "name": "ipython",
    "version": 3
   },
   "file_extension": ".py",
   "mimetype": "text/x-python",
   "name": "python",
   "nbconvert_exporter": "python",
   "pygments_lexer": "ipython3",
   "version": "3.7.6"
  }
 },
 "nbformat": 4,
 "nbformat_minor": 4
}
